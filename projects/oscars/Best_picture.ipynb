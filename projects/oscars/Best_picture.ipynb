{
 "cells": [
  {
   "cell_type": "code",
   "execution_count": 1,
   "id": "6abcb00f",
   "metadata": {
    "scrolled": false
   },
   "outputs": [
    {
     "name": "stderr",
     "output_type": "stream",
     "text": [
      "/Users/richardabbey/.pyenv/versions/3.9.7/lib/python3.9/site-packages/pandas/compat/__init__.py:124: UserWarning: Could not import the lzma module. Your installed Python is incomplete. Attempting to use lzma compression will result in a RuntimeError.\n",
      "  warnings.warn(msg)\n",
      "/var/folders/c4/ch89cvbs21d4cvs_ch64f2rh0000gn/T/ipykernel_94996/516176600.py:7: FutureWarning: Passing a negative integer is deprecated in version 1.0 and will not be supported in future version. Instead, use None to not limit the column width.\n"
     ]
    }
   ],
   "source": [
    "import pandas as pd\n",
    "from plotnine import *\n",
    "import matplotlib.pyplot as plt\n",
    "import numpy as np\n",
    "pd.set_option('display.max_columns', None)\n",
    "pd.set_option('display.max_rows', 100)\n",
    "pd.set_option(\"display.max_colwidth\", -1)"
   ]
  },
  {
   "cell_type": "markdown",
   "id": "e9d4e669",
   "metadata": {},
   "source": [
    "###### Opening my data"
   ]
  },
  {
   "cell_type": "code",
   "execution_count": 29,
   "id": "98277174",
   "metadata": {},
   "outputs": [],
   "source": [
    "df = pd.read_csv(\"new_oscars_new.csv\")"
   ]
  },
  {
   "cell_type": "code",
   "execution_count": 30,
   "id": "3ed6574c",
   "metadata": {},
   "outputs": [
    {
     "data": {
      "text/html": [
       "<div>\n",
       "<style scoped>\n",
       "    .dataframe tbody tr th:only-of-type {\n",
       "        vertical-align: middle;\n",
       "    }\n",
       "\n",
       "    .dataframe tbody tr th {\n",
       "        vertical-align: top;\n",
       "    }\n",
       "\n",
       "    .dataframe thead th {\n",
       "        text-align: right;\n",
       "    }\n",
       "</style>\n",
       "<table border=\"1\" class=\"dataframe\">\n",
       "  <thead>\n",
       "    <tr style=\"text-align: right;\">\n",
       "      <th></th>\n",
       "      <th>Year</th>\n",
       "      <th>Title</th>\n",
       "      <th>Producers</th>\n",
       "      <th>Budget</th>\n",
       "      <th>Revenue</th>\n",
       "      <th>Profitability</th>\n",
       "      <th>Genre</th>\n",
       "      <th>Rating</th>\n",
       "      <th>Winners</th>\n",
       "      <th>Production company</th>\n",
       "      <th>Distributors</th>\n",
       "    </tr>\n",
       "  </thead>\n",
       "  <tbody>\n",
       "    <tr>\n",
       "      <th>0</th>\n",
       "      <td>2016</td>\n",
       "      <td>Moonlight</td>\n",
       "      <td>Adele Romanski, Dede Gardner, and Jeremy Kleiner</td>\n",
       "      <td>4000000</td>\n",
       "      <td>65336603</td>\n",
       "      <td>93.877857</td>\n",
       "      <td>Drama</td>\n",
       "      <td>R</td>\n",
       "      <td>Yes</td>\n",
       "      <td>A24, Plan B Entertainment, Pastel Productions</td>\n",
       "      <td>A24</td>\n",
       "    </tr>\n",
       "    <tr>\n",
       "      <th>1</th>\n",
       "      <td>2016</td>\n",
       "      <td>Arrival</td>\n",
       "      <td>Shawn Levy, Dan Levine, Aaron Ryder, and David Linde</td>\n",
       "      <td>47000000</td>\n",
       "      <td>203388186</td>\n",
       "      <td>76.890000</td>\n",
       "      <td>Drama, Sci Fi</td>\n",
       "      <td>PG-13</td>\n",
       "      <td>No</td>\n",
       "      <td>FilmNation Entertainment, Lava Bear Films, 21 Laps Entertainment</td>\n",
       "      <td>Paramount Pictures, Sony Pictures, Stage 6 Films</td>\n",
       "    </tr>\n",
       "    <tr>\n",
       "      <th>2</th>\n",
       "      <td>2016</td>\n",
       "      <td>Fences</td>\n",
       "      <td>Scott Rudin, Denzel Washington, and Todd Black</td>\n",
       "      <td>24000000</td>\n",
       "      <td>64414761</td>\n",
       "      <td>62.740000</td>\n",
       "      <td>Drama</td>\n",
       "      <td>PG-13</td>\n",
       "      <td>No</td>\n",
       "      <td>Bron Creative, Macro Media, Escape Artists, Scott Rudin Productions</td>\n",
       "      <td>Paramount Pictures</td>\n",
       "    </tr>\n",
       "    <tr>\n",
       "      <th>3</th>\n",
       "      <td>2016</td>\n",
       "      <td>Hacksaw Ridge</td>\n",
       "      <td>Bill Mechanic and David Permut</td>\n",
       "      <td>40000000</td>\n",
       "      <td>180563636</td>\n",
       "      <td>77.850000</td>\n",
       "      <td>Biography, Drama, History, War</td>\n",
       "      <td>R</td>\n",
       "      <td>No</td>\n",
       "      <td>Summit Entertainment, Cross Creek Pictures, Demarest Media</td>\n",
       "      <td>Lionsgate, Icon Film Distribution, IM Global</td>\n",
       "    </tr>\n",
       "    <tr>\n",
       "      <th>4</th>\n",
       "      <td>2016</td>\n",
       "      <td>Hell or High Water</td>\n",
       "      <td>Carla Hacken and Julie Yorn</td>\n",
       "      <td>12000000</td>\n",
       "      <td>37879877</td>\n",
       "      <td>68.320000</td>\n",
       "      <td>Action, Crime, Drama, Thriller, Western</td>\n",
       "      <td>R</td>\n",
       "      <td>No</td>\n",
       "      <td>Argent Pictures, IM Global, AI Film, Vendian Entertainment,  Kylin Pictures, Pandemonium Films, Permut Presentations Production</td>\n",
       "      <td>Lionsgate, CBS Films</td>\n",
       "    </tr>\n",
       "  </tbody>\n",
       "</table>\n",
       "</div>"
      ],
      "text/plain": [
       "   Year               Title  \\\n",
       "0  2016  Moonlight            \n",
       "1  2016  Arrival              \n",
       "2  2016  Fences               \n",
       "3  2016  Hacksaw Ridge        \n",
       "4  2016  Hell or High Water   \n",
       "\n",
       "                                              Producers    Budget    Revenue  \\\n",
       "0  Adele Romanski, Dede Gardner, and Jeremy Kleiner      4000000   65336603    \n",
       "1  Shawn Levy, Dan Levine, Aaron Ryder, and David Linde  47000000  203388186   \n",
       "2  Scott Rudin, Denzel Washington, and Todd Black        24000000  64414761    \n",
       "3  Bill Mechanic and David Permut                        40000000  180563636   \n",
       "4  Carla Hacken and Julie Yorn                           12000000  37879877    \n",
       "\n",
       "   Profitability                                    Genre Rating Winners  \\\n",
       "0  93.877857      Drama                                    R      Yes      \n",
       "1  76.890000      Drama, Sci Fi                            PG-13  No       \n",
       "2  62.740000      Drama                                    PG-13  No       \n",
       "3  77.850000      Biography, Drama, History, War           R      No       \n",
       "4  68.320000      Action, Crime, Drama, Thriller, Western  R      No       \n",
       "\n",
       "                                                                                                                Production company  \\\n",
       "0  A24, Plan B Entertainment, Pastel Productions                                                                                     \n",
       "1  FilmNation Entertainment, Lava Bear Films, 21 Laps Entertainment                                                                  \n",
       "2  Bron Creative, Macro Media, Escape Artists, Scott Rudin Productions                                                               \n",
       "3  Summit Entertainment, Cross Creek Pictures, Demarest Media                                                                        \n",
       "4  Argent Pictures, IM Global, AI Film, Vendian Entertainment,  Kylin Pictures, Pandemonium Films, Permut Presentations Production   \n",
       "\n",
       "                                       Distributors  \n",
       "0  A24                                               \n",
       "1  Paramount Pictures, Sony Pictures, Stage 6 Films  \n",
       "2  Paramount Pictures                                \n",
       "3  Lionsgate, Icon Film Distribution, IM Global      \n",
       "4  Lionsgate, CBS Films                              "
      ]
     },
     "execution_count": 30,
     "metadata": {},
     "output_type": "execute_result"
    }
   ],
   "source": [
    "df.head()"
   ]
  },
  {
   "cell_type": "code",
   "execution_count": 19,
   "id": "2f76440c",
   "metadata": {},
   "outputs": [
    {
     "data": {
      "text/plain": [
       "Year                  int64  \n",
       "Title                 object \n",
       "Producers             object \n",
       "Budget                int64  \n",
       "Revenue               int64  \n",
       "Profitability         float64\n",
       "Genre                 object \n",
       "Rating                object \n",
       "Winners               object \n",
       "Production company    object \n",
       "Distributors          object \n",
       "dtype: object"
      ]
     },
     "execution_count": 19,
     "metadata": {},
     "output_type": "execute_result"
    }
   ],
   "source": [
    "df.dtypes"
   ]
  },
  {
   "cell_type": "markdown",
   "id": "3fd04f61",
   "metadata": {},
   "source": [
    "##### Formatting the data"
   ]
  },
  {
   "cell_type": "code",
   "execution_count": 31,
   "id": "9d767739",
   "metadata": {},
   "outputs": [],
   "source": [
    "# lowering the caps of the column names\n",
    "df.columns = df.columns.str.lower().str.replace(\" \", \"_\")"
   ]
  },
  {
   "cell_type": "code",
   "execution_count": 32,
   "id": "1e571439",
   "metadata": {},
   "outputs": [],
   "source": [
    "Make a column that is a LIST instead of a string\n",
    "df['producer_list'] = df.producers.str.split(\", \")\n",
    "df['genre_list'] = df.genre.str.split(\", \")\n",
    "df['production_companies'] = df.production_company.str.split(\", \")\n",
    "df['distributors_list'] = df.distributors.str.split(\", \")\n",
    "df"
   ]
  },
  {
   "cell_type": "markdown",
   "id": "d5370738",
   "metadata": {},
   "source": [
    "###### Expanding the list under some of the columns"
   ]
  },
  {
   "cell_type": "code",
   "execution_count": 40,
   "id": "1f2bbb80",
   "metadata": {},
   "outputs": [],
   "source": [
    "df.to_csv('newwww_movies.csv', index=False)\n",
    "\n",
    "# df['producer_list'] = df.producers.str.split(\", \".explode().unique()"
   ]
  },
  {
   "cell_type": "code",
   "execution_count": 37,
   "id": "49e6343d",
   "metadata": {},
   "outputs": [
    {
     "data": {
      "text/plain": [
       "78"
      ]
     },
     "execution_count": 37,
     "metadata": {},
     "output_type": "execute_result"
    }
   ],
   "source": [
    "# df = df.explode('producer_list').ignore_index(drop=True)\n",
    "# df = df.explode('genre_list').reset_index(drop=True)\n",
    "# df = df.explode('production_companies').reset_index(drop=True)\n",
    "df = df.explode('distributors_list').reset_index(drop=True)\n",
    "# df\n",
    "len(df)\n",
    "\n"
   ]
  },
  {
   "cell_type": "code",
   "execution_count": 38,
   "id": "56947005",
   "metadata": {},
   "outputs": [
    {
     "data": {
      "text/plain": [
       "Universal Pictures                9\n",
       "Netflix                           7\n",
       "Focus Features                    6\n",
       "Warner Bros. Pictures             6\n",
       "Lionsgate                         4\n",
       "20th Century Fox                  4\n",
       "Fox Searchlight Pictures          4\n",
       "Sony Pictures                     3\n",
       " Universal Pictures               2\n",
       "A24                               2\n",
       "Transmission Films                2\n",
       "Searchlight Pictures              2\n",
       "Amazon Studios                    2\n",
       "Paramount Pictures                2\n",
       "Espectáculos Fílmicos El Coyúl    1\n",
       "Entertainment One                 1\n",
       "Mirror Releasing                  1\n",
       "CJ Entertainment                  1\n",
       "Walt Disney Studios               1\n",
       "UGC Distribution                  1\n",
       "Apple TV+                         1\n",
       "Bitters End                       1\n",
       "United Artists Releasing          1\n",
       "Motion Pictures                   1\n",
       "A24                               1\n",
       " Mister Smith Entertainment       1\n",
       "Focus Features                    1\n",
       "Memento Films International       1\n",
       "Warner Bros. Pictures             1\n",
       "Sony Pictures Classics            1\n",
       "Roadside Attractions              1\n",
       "Pictureworks                      1\n",
       "CBS Films                         1\n",
       "IM Global                         1\n",
       "Icon Film Distribution            1\n",
       "Stage 6 Films                     1\n",
       "20th Century Studios              1\n",
       "Name: distributors_list, dtype: int64"
      ]
     },
     "execution_count": 38,
     "metadata": {},
     "output_type": "execute_result"
    }
   ],
   "source": [
    "df.distributors_list.value_counts()"
   ]
  },
  {
   "cell_type": "markdown",
   "id": "b6fede86",
   "metadata": {},
   "source": [
    "###### Grouping movies by years. Here I need a data frame for each years"
   ]
  },
  {
   "cell_type": "code",
   "execution_count": null,
   "id": "d6ce9347",
   "metadata": {
    "scrolled": false
   },
   "outputs": [],
   "source": [
    "year_2016 = df[df.year == 2016]\n",
    "year_2017 = df[df.year == 2017]\n",
    "year_2018 = df[df.year == 2018]\n",
    "year_2019 = df[df.year == 2019]\n",
    "year_2020 = df[df.year == 2020]\n"
   ]
  },
  {
   "cell_type": "code",
   "execution_count": null,
   "id": "27dc5e0b",
   "metadata": {},
   "outputs": [],
   "source": [
    "df.genre"
   ]
  },
  {
   "cell_type": "code",
   "execution_count": null,
   "id": "13892dde",
   "metadata": {},
   "outputs": [],
   "source": [
    "(ggplot(year_2016, aes('revenue', 'budget', color='budget'))\n",
    " + geom_point()\n",
    "#  + stat_smooth(method='lm')\n",
    " + facet_wrap('~year')\n",
    " + labs(title='Best Picture nominees budget and revenues since 2016'))"
   ]
  },
  {
   "cell_type": "code",
   "execution_count": null,
   "id": "de461515",
   "metadata": {},
   "outputs": [],
   "source": [
    "df['genre'].str.split(',', expand=True)\n",
    "\n",
    "df.year.value_counts()"
   ]
  },
  {
   "cell_type": "code",
   "execution_count": null,
   "id": "1d74a8e3",
   "metadata": {},
   "outputs": [],
   "source": [
    "# Make a column that is a LIST instead of a string\n",
    "df['genre_list'] = df.genre.str.split(\", \")\n",
    "df.head()"
   ]
  },
  {
   "cell_type": "code",
   "execution_count": null,
   "id": "d656df51",
   "metadata": {},
   "outputs": [],
   "source": [
    "df = df.explode('genre_list').reset_index(drop=True)"
   ]
  },
  {
   "cell_type": "code",
   "execution_count": null,
   "id": "0993f07d",
   "metadata": {},
   "outputs": [],
   "source": [
    "df.genre_list.value_counts()"
   ]
  },
  {
   "cell_type": "code",
   "execution_count": null,
   "id": "53022957",
   "metadata": {},
   "outputs": [],
   "source": [
    "#Average nominees budget over the years\n",
    "#Distribution of budget over the years\n",
    "#Looking at trends\n",
    "#Annotate each year group and see whicch is cheapest, plus performance etc"
   ]
  },
  {
   "cell_type": "code",
   "execution_count": null,
   "id": "a8e876cc",
   "metadata": {},
   "outputs": [],
   "source": []
  },
  {
   "cell_type": "code",
   "execution_count": null,
   "id": "3af2ef9b",
   "metadata": {},
   "outputs": [],
   "source": [
    "(ggplot(df, aes('revenue', 'budget'))\n",
    " + geom_point()\n",
    "#  + stat_smooth(method='lm')\n",
    " + facet_wrap('~year')\n",
    " + labs(title='Best Picture nominees budget and revenues since 2016'))"
   ]
  },
  {
   "cell_type": "code",
   "execution_count": null,
   "id": "34d18e60",
   "metadata": {},
   "outputs": [],
   "source": []
  }
 ],
 "metadata": {
  "kernelspec": {
   "display_name": "Python 3 (ipykernel)",
   "language": "python",
   "name": "python3"
  },
  "language_info": {
   "codemirror_mode": {
    "name": "ipython",
    "version": 3
   },
   "file_extension": ".py",
   "mimetype": "text/x-python",
   "name": "python",
   "nbconvert_exporter": "python",
   "pygments_lexer": "ipython3",
   "version": "3.9.7"
  }
 },
 "nbformat": 4,
 "nbformat_minor": 5
}
